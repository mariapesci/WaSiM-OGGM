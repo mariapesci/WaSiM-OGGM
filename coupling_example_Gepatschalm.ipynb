{
 "cells": [
  {
   "cell_type": "markdown",
   "id": "80530268",
   "metadata": {},
   "source": [
    "# Coupling WaSiM-OGGM: the example of Gepatschalm"
   ]
  },
  {
   "cell_type": "markdown",
   "id": "1bf49b2e",
   "metadata": {},
   "source": [
    "## "
   ]
  }
 ],
 "metadata": {
  "kernelspec": {
   "display_name": "Python 3 (ipykernel)",
   "language": "python",
   "name": "python3"
  },
  "language_info": {
   "codemirror_mode": {
    "name": "ipython",
    "version": 3
   },
   "file_extension": ".py",
   "mimetype": "text/x-python",
   "name": "python",
   "nbconvert_exporter": "python",
   "pygments_lexer": "ipython3",
   "version": "3.9.7"
  }
 },
 "nbformat": 4,
 "nbformat_minor": 5
}
